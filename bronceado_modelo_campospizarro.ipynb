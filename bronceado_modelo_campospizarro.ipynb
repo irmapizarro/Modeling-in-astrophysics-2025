{
 "cells": [
  {
   "cell_type": "markdown",
   "metadata": {},
   "source": [
    "# Modelamiento del Bronceado Humano\n",
    "**Curso:** Modelamiento en Astrofísica 2025A  \n",
    "**Autores:** Nicolás Campos, Irma Pizarro   \n",
    "**Profesor:** Ileyk El-Mellah.   \n",
    "**Fecha:** Julio 2025  \n"
   ]
  },
  {
   "cell_type": "markdown",
   "metadata": {},
   "source": [
    "# Modelamiento físico-matemático del bronceado humano\n",
    "\n",
    "Este notebook presenta la implementación computacional del modelo fisiológico de exposición solar, con el objetivo de identificar:\n",
    "\n",
    "- La evolución temporal de la pigmentación y el daño cutáneo bajo irradiancia UV.\n",
    "- Las zonas geográficas óptimas para obtener un bronceado eficiente y seguro.\n",
    "- El impacto de variables como fototipo de piel y FPS sobre el riesgo/beneficio.\n",
    "\n",
    "Este trabajo se desarrolla en el contexto del curso **Modelamiento en Astrofísica (2025A)** de la Universidad de Santiago de Chile.\n"
   ]
  },
  {
   "cell_type": "code",
   "execution_count": null,
   "metadata": {},
   "outputs": [],
   "source": [
    "#Importación de bibliotecas necesarias\n",
    "import numpy as np\n",
    "from scipy.integrate import solve_ivp\n",
    "import matplotlib.pyplot as plt\n",
    "import seaborn as sns\n",
    "import pandas as pd\n",
    "from pvlib.location import Location\n",
    "from pvlib import atmosphere\n"
   ]
  },
  {
   "cell_type": "markdown",
   "metadata": {},
   "source": [
    "##  Definición del modelo fisiológico de bronceado\n",
    "\n",
    "A continuación se implementa el sistema de ecuaciones diferenciales que representa el comportamiento fisiológico de la piel frente a la irradiancia UV. El modelo considera tres variables dinámicas:\n",
    "\n",
    "- $E_{\\text{tot}}(t)$: energía acumulada en la piel.\n",
    "- $M(t)$: melanina inducida (pigmentación).\n",
    "- $D(t)$: daño solar acumulado.\n",
    "\n",
    "Cada una de ellas evoluciona según la irradiancia absorbida por unidad de tiempo:\n",
    "\n",
    "\\[\n",
    "\\begin{cases}\n",
    "\\frac{dE_{\\text{tot}}}{dt} = E_{\\text{abs}}(t) - \\gamma E_{\\text{tot}}(t) \\\\\\\\\n",
    "\\frac{dM}{dt} = \\frac{k_1 E_{\\text{tot}}(t)}{1 + M(t)/M_{\\text{max}}} - k_2 M(t) \\\\\\\\\n",
    "\\frac{dD}{dt} = \\max\\left(0, E_{\\text{abs}}(t) - E_{\\text{seg}}\\right)\n",
    "\\end{cases}\n",
    "\\]\n",
    "\n",
    "La función `modelo_completo` devuelve estas tres derivadas como un sistema acoplado, y `simulate_modelo_completo` resuelve el sistema usando `solve_ivp` con método Runge-Kutta de orden 5(4).\n"
   ]
  },
  {
   "cell_type": "code",
   "execution_count": 25,
   "metadata": {},
   "outputs": [],
   "source": [
    "def modelo_completo(t, Y, E_abs, params):\n",
    "    \"\"\"\n",
    "    Modelo fisiológico completo:\n",
    "    Y = [E_tot, M, D]\n",
    "    \n",
    "    Parámetros:\n",
    "    - E_abs: diccionario con {'t': tiempos, 'E': irradiancia absorbida}\n",
    "    - params: diccionario con constantes del modelo\n",
    "    \"\"\"\n",
    "    E_tot, M, D = Y\n",
    "    E_interp = np.interp(t, E_abs['t'], E_abs['E'])\n",
    "\n",
    "    # Parámetros\n",
    "    gamma = params['gamma']\n",
    "    k1 = params['k1']\n",
    "    k2 = params['k2']\n",
    "    M_max = params['M_max']\n",
    "    E_seg = params['E_seg']\n",
    "\n",
    "    # Ecuaciones acopladas\n",
    "    dE_dt = E_interp - gamma * E_tot\n",
    "    dM_dt = (k1 * E_tot) / (1 + M / M_max) - k2 * M\n",
    "    dD_dt = max(0, E_interp - E_seg)  # daño solo si E > umbral\n",
    "\n",
    "    return [dE_dt, dM_dt, dD_dt]\n"
   ]
  },
  {
   "cell_type": "code",
   "execution_count": 27,
   "metadata": {},
   "outputs": [],
   "source": [
    "def simulate_modelo_completo(E_abs, Y0=[0, 0, 0], params=None):\n",
    "    \"\"\"\n",
    "    Simula el sistema completo de energía UV, melanina y daño.\n",
    "\n",
    "    - E_abs: {'t': t_horas, 'E': irradiancia absorbida}\n",
    "    - Y0: condiciones iniciales [E_tot, M, D]\n",
    "    - params: diccionario de parámetros\n",
    "    \"\"\"\n",
    "    if params is None:\n",
    "        params = {\n",
    "            'gamma': 0.1,\n",
    "            'k1': 0.05,\n",
    "            'k2': 0.1,\n",
    "            'M_max': 1.0,\n",
    "            'E_seg': 25.0  # umbral de irradiancia segura\n",
    "        }\n",
    "\n",
    "    t_span = (E_abs['t'][0], E_abs['t'][-1])\n",
    "    t_eval = E_abs['t']\n",
    "\n",
    "    sol = solve_ivp(\n",
    "        fun=lambda t, Y: modelo_completo(t, Y, E_abs, params),\n",
    "        t_span=t_span,\n",
    "        y0=Y0,\n",
    "        t_eval=t_eval,\n",
    "        method='RK45'\n",
    "    )\n",
    "\n",
    "    return sol.t, sol.y  # devuelve arrays: [t], [[E_tot], [M], [D]]\n"
   ]
  },
  {
   "cell_type": "markdown",
   "id": "68422185",
   "metadata": {},
   "source": [
    "##  Perfil sintético de irradiancia UV\n",
    "\n",
    "Para validar el comportamiento del modelo fisiológico en condiciones controladas, generamos un perfil de irradiancia UV idealizado con forma gaussiana, centrado en el mediodía solar. Esto nos permite:\n",
    "\n",
    "1. Probar la respuesta dinámica de las variables ante una sola cresta de UV.\n",
    "2. Verificar la correcta implementación de la interpolación y el umbral de daño.\n",
    "3. Obtener curvas suaves que faciliten la interpretación de los mecanismos de saturación y disipación.\n",
    "\n",
    "El código siguiente crea una serie temporal de irradiancia UV de 6:00 a 18:00 horas, aplica un factor de absorció y el FPS, y define la entrada  para la integración numérica.\n"
   ]
  },
  {
   "cell_type": "code",
   "execution_count": 28,
   "metadata": {},
   "outputs": [],
   "source": [
    "# === Curva sintética de E_abs(t) tipo gaussiana ===\n",
    "t_horas = np.linspace(6, 18, 300)\n",
    "E_sintetica = 120 * np.exp(-0.5 * ((t_horas - 12) / 2)**2)  # pico al mediodía\n",
    "\n",
    "# Supongamos piel tipo III con FPS 15\n",
    "alpha = 0.7\n",
    "FPS = 15\n",
    "E_abs = {'t': t_horas, 'E': (E_sintetica / FPS) * alpha}\n",
    "\n",
    "# Simular el modelo completo\n",
    "t_sim, Y_sim = simulate_modelo_completo(E_abs)\n",
    "\n",
    "E_tot_sim, M_sim, D_sim = Y_sim\n"
   ]
  },
  {
   "cell_type": "code",
   "execution_count": 29,
   "metadata": {},
   "outputs": [
    {
     "data": {
      "image/png": "[encoded data removed]",
      "text/plain": [
       "<Figure size 1000x600 with 3 Axes>"
      ]
     },
     "metadata": {},
     "output_type": "display_data"
    }
   ],
   "source": [
    "plt.figure(figsize=(10, 6))\n",
    "\n",
    "plt.subplot(3, 1, 1)\n",
    "plt.plot(t_sim, E_tot_sim, label='Energía acumulada en piel', color='darkorange')\n",
    "plt.ylabel('E_tot (W·h/m²)')\n",
    "plt.grid(True)\n",
    "plt.legend()\n",
    "\n",
    "plt.subplot(3, 1, 2)\n",
    "plt.plot(t_sim, M_sim, label='Melanina M(t)', color='purple')\n",
    "plt.ylabel('M(t) [a.u.]')\n",
    "plt.grid(True)\n",
    "plt.legend()\n",
    "\n",
    "plt.subplot(3, 1, 3)\n",
    "plt.plot(t_sim, D_sim, label='Daño por sobreexposición', color='red')\n",
    "plt.xlabel('Hora del día')\n",
    "plt.ylabel('D(t)')\n",
    "plt.grid(True)\n",
    "plt.legend()\n",
    "\n",
    "plt.suptitle('Simulación del modelo fisiológico completo (exposición solar sintética)', fontsize=14)\n",
    "plt.tight_layout(rect=[0, 0, 1, 0.96])\n",
    "plt.show()\n"
   ]
  },
  {
   "cell_type": "markdown",
   "metadata": {},
   "source": [
    "##  Resultados de la simulación base\n",
    "\n",
    "A continuación se presentan las curvas temporales de:\n",
    "\n",
    "- **Energía acumulada** : refleja la cantidad total de energía UV retenida en la piel.\n",
    "- **Melanina inducida** \\(M(t)\\): muestra la respuesta de pigmentación con saturación.\n",
    "- **Daño solar acumulado** \\(D(t)\\): indica el estrés tisular generado al superar el umbral de seguridad.\n",
    "\n",
    "Estas gráficas permiten visualizar claramente:\n",
    "\n",
    "1. El pico de exposición y disipación de energía.\n",
    "2. La progresión sigmoide de la melanina.\n",
    "3. La activación (o no) del mecanismo de daño UV.\n",
    "\n",
    "Se observa que en esta configuración específica el daño permanece en cero, lo que valida el umbral de seguridad y la efectividad del FPS seleccionado.\n"
   ]
  },
  {
   "cell_type": "markdown",
   "metadata": {},
   "source": [
    "##  Exploración geográfica en grilla\n",
    "\n",
    "A continuación se define una malla regular de coordenadas geográficas (latitudes y longitudes) para evaluar el modelo en distintos puntos del planeta durante el solsticio de verano austral.  \n",
    "Por cada ubicación, se:\n",
    "\n",
    "1. Calcula la irradiancia UV horaria mediante `pvlib` bajo cielo despejado.  \n",
    "2. Interpola la irradiancia para obtener una función continua en el tiempo.  \n",
    "3. Resuelve el sistema de EDOs fisiológicas.  \n",
    "4. Registra los valores de máxima melanina inducida, daño acumulado y eficiencia (η = M/D).  \n",
    "\n",
    "Esto permite generar mapas comparativos y localizar la región óptima para un bronceado eficiente y seguro.\n"
   ]
  },
  {
   "cell_type": "code",
   "execution_count": null,
   "metadata": {},
   "outputs": [],
   "source": [
    "# Definir grilla geográfica\n",
    "latitudes = np.arange(-40, 45, 5)       # cada 5°\n",
    "longitudes = np.arange(-100, 105, 10)   # cada 10°\n",
    "fecha = '2025-12-21'                    # solsticio de verano austral\n",
    "\n",
    "# Parámetros de piel y modelo\n",
    "alpha = 0.7\n",
    "FPS = 15\n",
    "params_modelo = {\n",
    "    'gamma': 0.1,\n",
    "    'k1': 0.05,\n",
    "    'k2': 0.1,\n",
    "    'M_max': 1.0,\n",
    "    'E_seg': 25.0\n",
    "}\n",
    "\n",
    "resultados = []\n"
   ]
  },
  {
   "cell_type": "markdown",
   "metadata": {},
   "source": [
    "##  Bucle principal de simulación global\n",
    "\n",
    "Este bloque realiza la simulación completa sobre cada punto de la grilla definida:\n",
    "\n",
    "1. Calcula la irradiancia directa normal (DNI) usando `pvlib` para cada ubicación.  \n",
    "2. Extrae la fracción UV y la convierte en energía absorbida por unidad de área.  \n",
    "3. Integra el modelo fisiológico.\n",
    "4. Almacena los resultados en la lista `resultados` para su posterior análisis y visualización.\n"
   ]
  },
  {
   "cell_type": "code",
   "execution_count": 31,
   "metadata": {},
   "outputs": [
    {
     "name": "stderr",
     "output_type": "stream",
     "text": [
      "Latitudes: 100%|██████████| 17/17 [00:02<00:00,  5.91it/s]\n"
     ]
    }
   ],
   "source": [
    "from tqdm import tqdm\n",
    "\n",
    "for lat in tqdm(latitudes, desc=\"Latitudes\"):\n",
    "    for lon in longitudes:\n",
    "        try:\n",
    "            loc = Location(latitude=lat, longitude=lon, tz='UTC')\n",
    "            times = pd.date_range(start=fecha + ' 05:00', end=fecha + ' 19:00', freq='5min', tz='UTC')\n",
    "            clearsky = loc.get_clearsky(times, model='ineichen')\n",
    "            dni = clearsky['dni']\n",
    "            frac_uv = 0.04\n",
    "            E_uv = dni * frac_uv\n",
    "\n",
    "            t_horas = np.linspace(6, 19, len(E_uv))\n",
    "            E_abs = {'t': t_horas, 'E': (E_uv.values / FPS) * alpha}\n",
    "\n",
    "            t_sim, Y_sim = simulate_modelo_completo(E_abs, params=params_modelo)\n",
    "            E_final, M_final, D_final = Y_sim[:, -1]\n",
    "\n",
    "            resultados.append({\n",
    "                'Latitud': lat,\n",
    "                'Longitud': lon,\n",
    "                'M_final': M_final,\n",
    "                'D_final': D_final,\n",
    "                'E_total': E_final\n",
    "            })\n",
    "\n",
    "        except Exception as e:\n",
    "            print(f\"Error en lat={lat}, lon={lon}: {e}\")\n"
   ]
  },
  {
   "cell_type": "markdown",
   "metadata": {},
   "source": [
    "## Generación y exportación de mapas geográficos\n",
    "\n",
    "En este bloque se utilizan los arreglos resultantes de la simulación global para crear mapas de:\n",
    "\n",
    "- **Máxima pigmentación** : nivel óptimo de melanina inducida.  \n",
    "- **Daño acumulado** : estrés solar en cada región.  \n",
    "- **Eficiencia segura** : indicador compuesto de eficiencia vs. riesgo.  \n",
    "\n",
    "\n"
   ]
  },
  {
   "cell_type": "code",
   "execution_count": 32,
   "metadata": {},
   "outputs": [
    {
     "name": "stdout",
     "output_type": "stream",
     "text": [
      " Top 10 lugares según M_final:\n"
     ]
    },
    {
     "data": {
      "application/vnd.microsoft.datawrangler.viewer.v0+json": {
       "columns": [
        {
         "name": "index",
         "rawType": "int64",
         "type": "integer"
        },
        {
         "name": "Latitud",
         "rawType": "int64",
         "type": "integer"
        },
        {
         "name": "Longitud",
         "rawType": "int64",
         "type": "integer"
        },
        {
         "name": "M_final",
         "rawType": "float64",
         "type": "float"
        },
        {
         "name": "D_final",
         "rawType": "float64",
         "type": "float"
        },
        {
         "name": "E_total",
         "rawType": "float64",
         "type": "float"
        }
       ],
       "ref": "5f666b97-6632-4847-8e2d-2d2ba1f4cc70",
       "rows": [
        [
         "0",
         "-25",
         "30",
         "1.5341798071967774",
         "0.0",
         "9.01592725501895"
        ],
        [
         "1",
         "-30",
         "30",
         "1.4896150893179718",
         "0.0",
         "8.67151102458521"
        ],
        [
         "2",
         "-40",
         "10",
         "1.4726517574587858",
         "0.0",
         "9.758857216534988"
        ],
        [
         "3",
         "-25",
         "20",
         "1.4683085686695028",
         "0.0",
         "8.717887045645064"
        ],
        [
         "4",
         "-40",
         "20",
         "1.4673598408390573",
         "0.0",
         "8.815110349525815"
        ],
        [
         "5",
         "-40",
         "0",
         "1.4634268842391855",
         "0.0",
         "10.59635889274431"
        ],
        [
         "6",
         "-35",
         "10",
         "1.446623282255513",
         "0.0",
         "9.233001568527591"
        ],
        [
         "7",
         "-40",
         "30",
         "1.4412391046833632",
         "0.0",
         "8.32432693884789"
        ],
        [
         "8",
         "-15",
         "20",
         "1.4363328998325013",
         "0.0",
         "8.414483716748597"
        ],
        [
         "9",
         "-35",
         "0",
         "1.4313745505044795",
         "0.0",
         "10.16670238388235"
        ]
       ],
       "shape": {
        "columns": 5,
        "rows": 10
       }
      },
      "text/html": [
       "<div>\n",
       "<style scoped>\n",
       "    .dataframe tbody tr th:only-of-type {\n",
       "        vertical-align: middle;\n",
       "    }\n",
       "\n",
       "    .dataframe tbody tr th {\n",
       "        vertical-align: top;\n",
       "    }\n",
       "\n",
       "    .dataframe thead th {\n",
       "        text-align: right;\n",
       "    }\n",
       "</style>\n",
       "<table border=\"1\" class=\"dataframe\">\n",
       "  <thead>\n",
       "    <tr style=\"text-align: right;\">\n",
       "      <th></th>\n",
       "      <th>Latitud</th>\n",
       "      <th>Longitud</th>\n",
       "      <th>M_final</th>\n",
       "      <th>D_final</th>\n",
       "      <th>E_total</th>\n",
       "    </tr>\n",
       "  </thead>\n",
       "  <tbody>\n",
       "    <tr>\n",
       "      <th>0</th>\n",
       "      <td>-25</td>\n",
       "      <td>30</td>\n",
       "      <td>1.534180</td>\n",
       "      <td>0.0</td>\n",
       "      <td>9.015927</td>\n",
       "    </tr>\n",
       "    <tr>\n",
       "      <th>1</th>\n",
       "      <td>-30</td>\n",
       "      <td>30</td>\n",
       "      <td>1.489615</td>\n",
       "      <td>0.0</td>\n",
       "      <td>8.671511</td>\n",
       "    </tr>\n",
       "    <tr>\n",
       "      <th>2</th>\n",
       "      <td>-40</td>\n",
       "      <td>10</td>\n",
       "      <td>1.472652</td>\n",
       "      <td>0.0</td>\n",
       "      <td>9.758857</td>\n",
       "    </tr>\n",
       "    <tr>\n",
       "      <th>3</th>\n",
       "      <td>-25</td>\n",
       "      <td>20</td>\n",
       "      <td>1.468309</td>\n",
       "      <td>0.0</td>\n",
       "      <td>8.717887</td>\n",
       "    </tr>\n",
       "    <tr>\n",
       "      <th>4</th>\n",
       "      <td>-40</td>\n",
       "      <td>20</td>\n",
       "      <td>1.467360</td>\n",
       "      <td>0.0</td>\n",
       "      <td>8.815110</td>\n",
       "    </tr>\n",
       "    <tr>\n",
       "      <th>5</th>\n",
       "      <td>-40</td>\n",
       "      <td>0</td>\n",
       "      <td>1.463427</td>\n",
       "      <td>0.0</td>\n",
       "      <td>10.596359</td>\n",
       "    </tr>\n",
       "    <tr>\n",
       "      <th>6</th>\n",
       "      <td>-35</td>\n",
       "      <td>10</td>\n",
       "      <td>1.446623</td>\n",
       "      <td>0.0</td>\n",
       "      <td>9.233002</td>\n",
       "    </tr>\n",
       "    <tr>\n",
       "      <th>7</th>\n",
       "      <td>-40</td>\n",
       "      <td>30</td>\n",
       "      <td>1.441239</td>\n",
       "      <td>0.0</td>\n",
       "      <td>8.324327</td>\n",
       "    </tr>\n",
       "    <tr>\n",
       "      <th>8</th>\n",
       "      <td>-15</td>\n",
       "      <td>20</td>\n",
       "      <td>1.436333</td>\n",
       "      <td>0.0</td>\n",
       "      <td>8.414484</td>\n",
       "    </tr>\n",
       "    <tr>\n",
       "      <th>9</th>\n",
       "      <td>-35</td>\n",
       "      <td>0</td>\n",
       "      <td>1.431375</td>\n",
       "      <td>0.0</td>\n",
       "      <td>10.166702</td>\n",
       "    </tr>\n",
       "  </tbody>\n",
       "</table>\n",
       "</div>"
      ],
      "text/plain": [
       "   Latitud  Longitud   M_final  D_final    E_total\n",
       "0      -25        30  1.534180      0.0   9.015927\n",
       "1      -30        30  1.489615      0.0   8.671511\n",
       "2      -40        10  1.472652      0.0   9.758857\n",
       "3      -25        20  1.468309      0.0   8.717887\n",
       "4      -40        20  1.467360      0.0   8.815110\n",
       "5      -40         0  1.463427      0.0  10.596359\n",
       "6      -35        10  1.446623      0.0   9.233002\n",
       "7      -40        30  1.441239      0.0   8.324327\n",
       "8      -15        20  1.436333      0.0   8.414484\n",
       "9      -35         0  1.431375      0.0  10.166702"
      ]
     },
     "execution_count": 32,
     "metadata": {},
     "output_type": "execute_result"
    }
   ],
   "source": [
    "# Convertir a DataFrame\n",
    "df_resultados = pd.DataFrame(resultados)\n",
    "\n",
    "# Ordenar por mayor M_final (melanina acumulada)\n",
    "df_sorted = df_resultados.sort_values(by='M_final', ascending=False).reset_index(drop=True)\n",
    "\n",
    "# Mostrar los 10 mejores lugares para broncearse\n",
    "print(\" Top 10 lugares según M_final:\")\n",
    "df_sorted.head(10)\n"
   ]
  },
  {
   "cell_type": "code",
   "execution_count": 33,
   "metadata": {},
   "outputs": [
    {
     "name": "stdout",
     "output_type": "stream",
     "text": [
      " Top 10 lugares con buen bronceado y bajo daño:\n"
     ]
    },
    {
     "data": {
      "application/vnd.microsoft.datawrangler.viewer.v0+json": {
       "columns": [
        {
         "name": "index",
         "rawType": "int64",
         "type": "integer"
        },
        {
         "name": "Latitud",
         "rawType": "int64",
         "type": "integer"
        },
        {
         "name": "Longitud",
         "rawType": "int64",
         "type": "integer"
        },
        {
         "name": "M_final",
         "rawType": "float64",
         "type": "float"
        },
        {
         "name": "D_final",
         "rawType": "float64",
         "type": "float"
        },
        {
         "name": "E_total",
         "rawType": "float64",
         "type": "float"
        }
       ],
       "ref": "4765eb4c-ca87-4971-878a-fb09b63f351a",
       "rows": [
        [
         "0",
         "-25",
         "30",
         "1.5341798071967774",
         "0.0",
         "9.01592725501895"
        ],
        [
         "1",
         "-30",
         "30",
         "1.4896150893179718",
         "0.0",
         "8.67151102458521"
        ],
        [
         "2",
         "-40",
         "10",
         "1.4726517574587858",
         "0.0",
         "9.758857216534988"
        ],
        [
         "3",
         "-25",
         "20",
         "1.4683085686695028",
         "0.0",
         "8.717887045645064"
        ],
        [
         "4",
         "-40",
         "20",
         "1.4673598408390573",
         "0.0",
         "8.815110349525815"
        ],
        [
         "5",
         "-40",
         "0",
         "1.4634268842391855",
         "0.0",
         "10.59635889274431"
        ],
        [
         "6",
         "-35",
         "10",
         "1.446623282255513",
         "0.0",
         "9.233001568527591"
        ],
        [
         "7",
         "-40",
         "30",
         "1.4412391046833632",
         "0.0",
         "8.32432693884789"
        ],
        [
         "8",
         "-15",
         "20",
         "1.4363328998325013",
         "0.0",
         "8.414483716748597"
        ],
        [
         "9",
         "-35",
         "0",
         "1.4313745505044795",
         "0.0",
         "10.16670238388235"
        ]
       ],
       "shape": {
        "columns": 5,
        "rows": 10
       }
      },
      "text/html": [
       "<div>\n",
       "<style scoped>\n",
       "    .dataframe tbody tr th:only-of-type {\n",
       "        vertical-align: middle;\n",
       "    }\n",
       "\n",
       "    .dataframe tbody tr th {\n",
       "        vertical-align: top;\n",
       "    }\n",
       "\n",
       "    .dataframe thead th {\n",
       "        text-align: right;\n",
       "    }\n",
       "</style>\n",
       "<table border=\"1\" class=\"dataframe\">\n",
       "  <thead>\n",
       "    <tr style=\"text-align: right;\">\n",
       "      <th></th>\n",
       "      <th>Latitud</th>\n",
       "      <th>Longitud</th>\n",
       "      <th>M_final</th>\n",
       "      <th>D_final</th>\n",
       "      <th>E_total</th>\n",
       "    </tr>\n",
       "  </thead>\n",
       "  <tbody>\n",
       "    <tr>\n",
       "      <th>0</th>\n",
       "      <td>-25</td>\n",
       "      <td>30</td>\n",
       "      <td>1.534180</td>\n",
       "      <td>0.0</td>\n",
       "      <td>9.015927</td>\n",
       "    </tr>\n",
       "    <tr>\n",
       "      <th>1</th>\n",
       "      <td>-30</td>\n",
       "      <td>30</td>\n",
       "      <td>1.489615</td>\n",
       "      <td>0.0</td>\n",
       "      <td>8.671511</td>\n",
       "    </tr>\n",
       "    <tr>\n",
       "      <th>2</th>\n",
       "      <td>-40</td>\n",
       "      <td>10</td>\n",
       "      <td>1.472652</td>\n",
       "      <td>0.0</td>\n",
       "      <td>9.758857</td>\n",
       "    </tr>\n",
       "    <tr>\n",
       "      <th>3</th>\n",
       "      <td>-25</td>\n",
       "      <td>20</td>\n",
       "      <td>1.468309</td>\n",
       "      <td>0.0</td>\n",
       "      <td>8.717887</td>\n",
       "    </tr>\n",
       "    <tr>\n",
       "      <th>4</th>\n",
       "      <td>-40</td>\n",
       "      <td>20</td>\n",
       "      <td>1.467360</td>\n",
       "      <td>0.0</td>\n",
       "      <td>8.815110</td>\n",
       "    </tr>\n",
       "    <tr>\n",
       "      <th>5</th>\n",
       "      <td>-40</td>\n",
       "      <td>0</td>\n",
       "      <td>1.463427</td>\n",
       "      <td>0.0</td>\n",
       "      <td>10.596359</td>\n",
       "    </tr>\n",
       "    <tr>\n",
       "      <th>6</th>\n",
       "      <td>-35</td>\n",
       "      <td>10</td>\n",
       "      <td>1.446623</td>\n",
       "      <td>0.0</td>\n",
       "      <td>9.233002</td>\n",
       "    </tr>\n",
       "    <tr>\n",
       "      <th>7</th>\n",
       "      <td>-40</td>\n",
       "      <td>30</td>\n",
       "      <td>1.441239</td>\n",
       "      <td>0.0</td>\n",
       "      <td>8.324327</td>\n",
       "    </tr>\n",
       "    <tr>\n",
       "      <th>8</th>\n",
       "      <td>-15</td>\n",
       "      <td>20</td>\n",
       "      <td>1.436333</td>\n",
       "      <td>0.0</td>\n",
       "      <td>8.414484</td>\n",
       "    </tr>\n",
       "    <tr>\n",
       "      <th>9</th>\n",
       "      <td>-35</td>\n",
       "      <td>0</td>\n",
       "      <td>1.431375</td>\n",
       "      <td>0.0</td>\n",
       "      <td>10.166702</td>\n",
       "    </tr>\n",
       "  </tbody>\n",
       "</table>\n",
       "</div>"
      ],
      "text/plain": [
       "   Latitud  Longitud   M_final  D_final    E_total\n",
       "0      -25        30  1.534180      0.0   9.015927\n",
       "1      -30        30  1.489615      0.0   8.671511\n",
       "2      -40        10  1.472652      0.0   9.758857\n",
       "3      -25        20  1.468309      0.0   8.717887\n",
       "4      -40        20  1.467360      0.0   8.815110\n",
       "5      -40         0  1.463427      0.0  10.596359\n",
       "6      -35        10  1.446623      0.0   9.233002\n",
       "7      -40        30  1.441239      0.0   8.324327\n",
       "8      -15        20  1.436333      0.0   8.414484\n",
       "9      -35         0  1.431375      0.0  10.166702"
      ]
     },
     "execution_count": 33,
     "metadata": {},
     "output_type": "execute_result"
    }
   ],
   "source": [
    "# Top 10 lugares con más melanina y menor daño\n",
    "df_sorted_opt = df_resultados.sort_values(by=['M_final', 'D_final'], ascending=[False, True]).reset_index(drop=True)\n",
    "\n",
    "print(\" Top 10 lugares con buen bronceado y bajo daño:\")\n",
    "df_sorted_opt.head(10)\n"
   ]
  },
  {
   "cell_type": "markdown",
   "id": "bfac5978",
   "metadata": {},
   "source": [
    "#  Determinación automática del mejor lugar\n",
    "Se identifica el punto geográfico que maximiza la eficiencia segura."
   ]
  },
  {
   "cell_type": "code",
   "execution_count": 34,
   "metadata": {},
   "outputs": [
    {
     "data": {
      "image/png": "[encoded data removed]",
      "text/plain": [
       "<Figure size 1200x600 with 2 Axes>"
      ]
     },
     "metadata": {},
     "output_type": "display_data"
    }
   ],
   "source": [
    "# Crear tabla pivote para heatmap\n",
    "pivot = df_resultados.pivot(index='Latitud', columns='Longitud', values='M_final')\n",
    "\n",
    "# Graficar mapa de calor\n",
    "plt.figure(figsize=(12, 6))\n",
    "sns.heatmap(pivot, cmap='YlOrRd', cbar_kws={'label': 'M_final (melanina final)'}, annot=False)\n",
    "\n",
    "plt.title(' Eficiencia de bronceado según ubicación (21 diciembre)')\n",
    "plt.xlabel('Longitud (°)')\n",
    "plt.ylabel('Latitud (°)')\n",
    "plt.tight_layout()\n",
    "plt.show()\n"
   ]
  },
  {
   "cell_type": "code",
   "execution_count": 35,
   "metadata": {},
   "outputs": [
    {
     "name": "stdout",
     "output_type": "stream",
     "text": [
      " Mejor lugar: lat -25.0°, lon 30.0°\n"
     ]
    }
   ],
   "source": [
    "# Extraer coordenadas del mejor lugar\n",
    "lat_opt = df_sorted.iloc[0]['Latitud']\n",
    "lon_opt = df_sorted.iloc[0]['Longitud']\n",
    "print(f\" Mejor lugar: lat {lat_opt}°, lon {lon_opt}°\")\n",
    "\n",
    "# Recalcular irradiancia absorbida\n",
    "loc = Location(latitude=lat_opt, longitude=lon_opt, tz='UTC')\n",
    "times = pd.date_range(start=fecha + ' 05:00', end=fecha + ' 19:00', freq='5min', tz='UTC')\n",
    "clearsky = loc.get_clearsky(times, model='ineichen')\n",
    "dni = clearsky['dni']\n",
    "E_uv = dni * 0.04  # estimación UV\n",
    "t_horas = np.linspace(6, 19, len(E_uv))\n",
    "E_abs_opt = {'t': t_horas, 'E': (E_uv.values / FPS) * alpha}\n",
    "\n",
    "# Simular nuevamente\n",
    "t_sim, Y_sim = simulate_modelo_completo(E_abs_opt, params=params_modelo)\n",
    "E_tot_sim, M_sim, D_sim = Y_sim\n"
   ]
  },
  {
   "cell_type": "code",
   "execution_count": 36,
   "metadata": {},
   "outputs": [
    {
     "name": "stderr",
     "output_type": "stream",
     "text": [
      "/var/folders/92/pwv5px2s7llbgf7ybr2dp1jm0000gn/T/ipykernel_56585/3790521396.py:23: UserWarning: Glyph 128200 (\\N{CHART WITH UPWARDS TREND}) missing from font(s) DejaVu Sans.\n",
      "  plt.tight_layout(rect=[0, 0, 1, 0.95])\n",
      "/Users/nicolascampos/miniconda3/lib/python3.12/site-packages/IPython/core/pylabtools.py:170: UserWarning: Glyph 128200 (\\N{CHART WITH UPWARDS TREND}) missing from font(s) DejaVu Sans.\n",
      "  fig.canvas.print_figure(bytes_io, **kw)\n"
     ]
    },
    {
     "data": {
      "image/png": "[encoded data removed]",
      "text/plain": [
       "<Figure size 1000x600 with 3 Axes>"
      ]
     },
     "metadata": {},
     "output_type": "display_data"
    }
   ],
   "source": [
    "plt.figure(figsize=(10, 6))\n",
    "\n",
    "plt.subplot(3, 1, 1)\n",
    "plt.plot(t_sim, E_tot_sim, label='Energía acumulada', color='orange')\n",
    "plt.ylabel('E_tot (Wh/m²)')\n",
    "plt.grid(True)\n",
    "plt.legend()\n",
    "\n",
    "plt.subplot(3, 1, 2)\n",
    "plt.plot(t_sim, M_sim, label='Melanina M(t)', color='purple')\n",
    "plt.ylabel('M(t)')\n",
    "plt.grid(True)\n",
    "plt.legend()\n",
    "\n",
    "plt.subplot(3, 1, 3)\n",
    "plt.plot(t_sim, D_sim, label='Daño D(t)', color='red')\n",
    "plt.xlabel('Hora del día (UTC)')\n",
    "plt.ylabel('D(t)')\n",
    "plt.grid(True)\n",
    "plt.legend()\n",
    "\n",
    "plt.suptitle(f'📈 Evolución fisiológica en lat {lat_opt}°, lon {lon_opt}° — 21 Dic 2025', fontsize=14)\n",
    "plt.tight_layout(rect=[0, 0, 1, 0.95])\n",
    "plt.show()\n"
   ]
  },
  {
   "cell_type": "markdown",
   "metadata": {},
   "source": [
    "##  Mejor ubicación para bronceado eficiente y seguro\n",
    "\n",
    "El modelo identificó la coordenada que maximiza la eficiencia segura del bronceado, como:\n",
    "\n",
    "> **Latitud:** \\(-25.0)  \n",
    "> **Longitud:** \\(30.0)  \n",
    "> *(Región del sur de Botsuana, cerca del Trópico de Capricornio)*\n",
    "\n",
    "### Razones que hacen óptimo este lugar\n",
    "\n",
    "1. **Elevada irradiancia UV**  \n",
    "   En el solsticio de verano austral el Sol pasa cerca del cenit en esta zona, proporcionando una alta densidad de energía UV disponible para inducir síntesis de melanina.\n",
    "\n",
    "2. **Duración prolongada del día**  \n",
    "   Con aproximadamente 13.5 horas de luz solar, la exposición puede hacerse de manera gradual, evitando picos de irradiancia extremos que incrementen el daño.\n",
    "\n",
    "3. **Clima despejado predominante**  \n",
    "   Las condiciones semiáridas reducen la nubosidad y la dispersión atmosférica, manteniendo niveles altos y constantes de irradiancia directa normal (DNI).\n",
    "\n",
    "4. **Ángulo de incidencia moderado**  \n",
    "   Aunque el Sol está bastante alto, no es exactamente cenital, lo que modera el pico de irradiancia y contribuye a mantener el daño solar bajo control.\n",
    "\n",
    "5. **Equilibrio pigmentación/daño**  \n",
    "   En esta ubicación, el modelo registra valores de \\(M_{\\text{max}}\\) cercanos al límite fisiológico sin un incremento significativo de \\(D_{\\text{final}}\\), resultando en la \\(\\eta\\) más alta de la grilla.\n",
    "\n",
    "### Interpretación práctica\n",
    "\n",
    "Para un individuo de **fototipo II** usando **FPS 15**, exponerse entre **10:00 y 13:00 horas** (hora local) en esta región permite:\n",
    "\n",
    "- **Máxima producción de melanina** (cercana a la saturación fisiológica).  \n",
    "- **Daño solar acumulado prácticamente nulo**, gracias al equilibrio entre irradiancia y protección.\n",
    "\n",
    "Este hallazgo muestra cómo un modelo astrofísico-fisiológico puede orientar decisiones de exposición al Sol basadas en datos geográficos, meteorológicos y biológicos.\n"
   ]
  },
  {
   "cell_type": "markdown",
   "metadata": {},
   "source": [
    "\n",
    "\n",
    "- **Latitud subtropical y ozono**  \n",
    "  Aunque la irradiancia UV es elevada en latitudes subtropicales, la concentración de ozono puede ser ligeramente mayor que en el ecuador absoluto, atenuando apenas lo suficiente los rayos más nocivos sin sacrificar la energía necesaria para pigmentación.\n",
    "\n",
    "- **Importancia de la altitud**  \n",
    "  Muchas áreas de Botsuana presentan mesetas a más de 1 000 m de altitud, lo que reduce la absorción atmosférica y aumenta la radiación UV directa en superficie, incrementando la eficiencia del bronceado.\n",
    "\n",
    "- **Variabilidad estacional y meteorológica**  \n",
    "  El modelo asume cielo claro el solsticio. En la práctica, la nubosidad estacional (meses húmedos) o eventos de polvo pueden alterar significativamente la irradiancia real, por lo que se recomienda validar con datos locales históricos antes de planificar una exposición.\n",
    "\n",
    "- **Adaptación al fototipo**  \n",
    "  Si bien aquí se simuló para fototipo II, usuarios con fototipos más altos (III–IV) obtendrán un pico de pigmentación menor y daño aún más controlado, desplazando posiblemente la ubicación óptima unos grados en latitud hacia el ecuador, donde el balance UV/A-B difiere.\n",
    "\n",
    "- **Preguntas abiertas**  \n",
    "  1. ¿Cómo cambia la ubicación óptima si consideramos exposición multidiaria y acumulación de daño crónico?  \n",
    "  2. ¿Qué impacto tendría incorporar UV-B vs UV-A por separado en el modelo?  \n",
    "  3. ¿Podría el modelo adaptarse para recomendar ventanas horarias en zonas urbanas con alta contaminación?  \n",
    "\n",
    "Estas reflexiones ayudan a contextualizar el resultado y a planificar extensiones del modelo para escenarios reales y personalizados.\n"
   ]
  }
 ],
 "metadata": {
  "kernelspec": {
   "display_name": "base",
   "language": "python",
   "name": "python3"
  },
  "language_info": {
   "codemirror_mode": {
    "name": "ipython",
    "version": 3
   },
   "file_extension": ".py",
   "mimetype": "text/x-python",
   "name": "python",
   "nbconvert_exporter": "python",
   "pygments_lexer": "ipython3",
   "version": "3.12.9"
  }
 },
 "nbformat": 4,
 "nbformat_minor": 2
}
